{
 "cells": [
  {
   "cell_type": "code",
   "execution_count": 23,
   "metadata": {},
   "outputs": [],
   "source": [
    "import requests"
   ]
  },
  {
   "cell_type": "markdown",
   "metadata": {},
   "source": [
    "#### Ping"
   ]
  },
  {
   "cell_type": "code",
   "execution_count": 97,
   "metadata": {
    "collapsed": true
   },
   "outputs": [
    {
     "name": "stdout",
     "output_type": "stream",
     "text": [
      "200 {\n",
      "  \"message\": \"SUCCESS\"\n",
      "}\n",
      "\n"
     ]
    }
   ],
   "source": [
    "URL = \"http://localhost:1337/ping\"\n",
    "response = requests.get(URL)\n",
    "try:\n",
    "    print(response.status_code, response.text)\n",
    "except:\n",
    "    print(response.status_code)"
   ]
  },
  {
   "cell_type": "markdown",
   "metadata": {},
   "source": [
    "#### Home Page"
   ]
  },
  {
   "cell_type": "code",
   "execution_count": 104,
   "metadata": {
    "collapsed": true
   },
   "outputs": [
    {
     "name": "stdout",
     "output_type": "stream",
     "text": [
      "200 <center><br /><br /><a href=\"job/eee81fbb-b03a-4117-9bf5-a1b115991b85\">eee81fbb-b03a-4117-9bf5-a1b115991b85</a><br /><br /><a href=\"job/1ecd9d14-8d95-46f9-91ab-963939238843\">1ecd9d14-8d95-46f9-91ab-963939238843</a><br /><br />Total 2 Jobs in queue </center>\n"
     ]
    }
   ],
   "source": [
    "URL = \"http://localhost:1337/\"\n",
    "response = requests.get(URL)\n",
    "try:\n",
    "    print(response.status_code, response.text)\n",
    "except:\n",
    "    print(response.status_code)"
   ]
  },
  {
   "cell_type": "markdown",
   "metadata": {},
   "source": [
    "#### Enqueue - N Jobs"
   ]
  },
  {
   "cell_type": "code",
   "execution_count": 99,
   "metadata": {},
   "outputs": [],
   "source": [
    "N = 5"
   ]
  },
  {
   "cell_type": "code",
   "execution_count": 100,
   "metadata": {
    "collapsed": true
   },
   "outputs": [
    {
     "name": "stdout",
     "output_type": "stream",
     "text": [
      "200 {\n",
      "  \"message\": \"SUCCESS - enqueued job: 2da58659-f6ed-410a-a452-c8685e12f085\"\n",
      "}\n",
      "\n",
      "200 {\n",
      "  \"message\": \"SUCCESS - enqueued job: b14d968b-b3b4-41a9-bb2f-989b2a3f8c9d\"\n",
      "}\n",
      "\n",
      "200 {\n",
      "  \"message\": \"SUCCESS - enqueued job: 6f4c2ffb-80da-4ad8-8c70-7cf6f61910c6\"\n",
      "}\n",
      "\n",
      "200 {\n",
      "  \"message\": \"SUCCESS - enqueued job: eee81fbb-b03a-4117-9bf5-a1b115991b85\"\n",
      "}\n",
      "\n",
      "200 {\n",
      "  \"message\": \"SUCCESS - enqueued job: 1ecd9d14-8d95-46f9-91ab-963939238843\"\n",
      "}\n",
      "\n"
     ]
    }
   ],
   "source": [
    "for _ in range(N):\n",
    "    URL = \"http://localhost:1337/request_weather/\"\n",
    "    response = requests.get(URL)\n",
    "    try:\n",
    "        print(response.status_code, response.text)\n",
    "    except:\n",
    "        print(response.status_code)"
   ]
  },
  {
   "cell_type": "markdown",
   "metadata": {},
   "source": [
    "#### View Job"
   ]
  },
  {
   "cell_type": "code",
   "execution_count": 102,
   "metadata": {},
   "outputs": [],
   "source": [
    "JOB_ID = \"2da58659-f6ed-410a-a452-c8685e12f085\""
   ]
  },
  {
   "cell_type": "code",
   "execution_count": 103,
   "metadata": {
    "collapsed": true
   },
   "outputs": [
    {
     "name": "stdout",
     "output_type": "stream",
     "text": [
      "200 <center><p>Result of Job2da58659-f6ed-410a-a452-c8685e12f085</p><br /><p>(200, [{'id': 600, 'main': 'Snow', 'description': 'light snow', 'icon': '13d'}])</p></center>\n"
     ]
    }
   ],
   "source": [
    "URL = f\"http://localhost:1337/weather/{JOB_ID}/\"\n",
    "response = requests.get(URL)\n",
    "try:\n",
    "    print(response.status_code, response.text)\n",
    "except:\n",
    "    print(response.status_code)"
   ]
  },
  {
   "cell_type": "code",
   "execution_count": null,
   "metadata": {},
   "outputs": [],
   "source": []
  }
 ],
 "metadata": {
  "kernelspec": {
   "display_name": "Python 3",
   "language": "python",
   "name": "python3"
  },
  "language_info": {
   "codemirror_mode": {
    "name": "ipython",
    "version": 3
   },
   "file_extension": ".py",
   "mimetype": "text/x-python",
   "name": "python",
   "nbconvert_exporter": "python",
   "pygments_lexer": "ipython3",
   "version": "3.8.5"
  }
 },
 "nbformat": 4,
 "nbformat_minor": 4
}
